{
 "cells": [
  {
   "cell_type": "code",
   "execution_count": 192,
   "metadata": {
    "scrolled": true
   },
   "outputs": [
    {
     "name": "stdout",
     "output_type": "stream",
     "text": [
      "16920\n",
      "43318\n"
     ]
    }
   ],
   "source": [
    "import numpy\n",
    "from PIL import Image\n",
    "\n",
    "# light polution map\n",
    "\n",
    "Image.MAX_IMAGE_PIXELS = 725760000\n",
    "im_showable = Image.open(r'world2016B.png')\n",
    "im_showable = numpy.array(im_showable)\n",
    "im_dev = Image.open(r'world2016.png')\n",
    "im_dev = numpy.vstack([numpy.array(im_dev), numpy.full((120, 43200), 0)])\n",
    "im_dev = numpy.column_stack((im_dev, numpy.full((16920, 118), 0)))\n",
    "\n",
    "step_x = 16920 / 141\n",
    "step_y = 43318 / 361\n",
    "print(len(im_dev))\n",
    "print(len(im_dev[0]))"
   ]
  },
  {
   "cell_type": "code",
   "execution_count": 193,
   "metadata": {},
   "outputs": [],
   "source": [
    "# weather API\n",
    "\n",
    "import requests\n",
    "\n",
    "with open('TOKEN.txt') as tok:\n",
    "    api_id = tok.read()\n",
    "\n",
    "latitude = 'london'\n",
    "longitude = 'uk'\n",
    "\n",
    "home_link = \"https://weather.visualcrossing.com/VisualCrossingWebServices\" \\\n",
    "            \"/rest/services/timeline/\"\n",
    "\n",
    "params = 'cloudcover,'+'conditions,'+'humidity,'+'visibility'\n",
    "time = '22:00:00'\n",
    "date = ('2020-03-01', '2020-03-04')\n",
    "\n",
    "result_call = home_link+latitude+','+longitude+'/'+date[0]+'T'+time+'/'+ \\\n",
    "              date[1]+'T'+time+'/'+'?key='+api_id+\\\n",
    "              '&include=obs%2Cfcst%2Cstats%2Calerts%2Ccurrent%2Chistfcst'+ \\\n",
    "              '&elements='+params\n"
   ]
  },
  {
   "cell_type": "code",
   "execution_count": 194,
   "metadata": {},
   "outputs": [],
   "source": [
    "raw = requests.get(result_call)"
   ]
  },
  {
   "cell_type": "code",
   "execution_count": 195,
   "metadata": {},
   "outputs": [
    {
     "data": {
      "text/plain": [
       "{'queryCost': 4,\n",
       " 'latitude': 51.5064,\n",
       " 'longitude': -0.12721,\n",
       " 'resolvedAddress': 'London, England, United Kingdom',\n",
       " 'address': 'london,uk',\n",
       " 'timezone': 'Europe/London',\n",
       " 'tzoffset': 0.0,\n",
       " 'days': [{'humidity': 64.39,\n",
       "   'cloudcover': 0.2,\n",
       "   'visibility': 20.6,\n",
       "   'conditions': 'Rain',\n",
       "   'normal': {'humidity': [60.2, 74.5, 86.3],\n",
       "    'cloudcover': [0.1, 23.3, 98.2]}},\n",
       "  {'humidity': 73.9,\n",
       "   'cloudcover': 0.3,\n",
       "   'visibility': 19.5,\n",
       "   'conditions': 'Rain',\n",
       "   'normal': {'humidity': [60.7, 73.4, 89.4],\n",
       "    'cloudcover': [0.1, 24.2, 98.7]}},\n",
       "  {'humidity': 76.27,\n",
       "   'cloudcover': 0.2,\n",
       "   'visibility': 20.2,\n",
       "   'conditions': 'Rain',\n",
       "   'normal': {'humidity': [57.9, 72.9, 92.8],\n",
       "    'cloudcover': [0.2, 27.6, 93.2]}},\n",
       "  {'humidity': 85.81,\n",
       "   'cloudcover': 0.6,\n",
       "   'visibility': 9.6,\n",
       "   'conditions': 'Rain',\n",
       "   'normal': {'humidity': [52.5, 73.3, 89.0],\n",
       "    'cloudcover': [0.3, 26.9, 98.2]}}]}"
      ]
     },
     "execution_count": 195,
     "metadata": {},
     "output_type": "execute_result"
    }
   ],
   "source": [
    "raw.json()"
   ]
  },
  {
   "cell_type": "code",
   "execution_count": 196,
   "metadata": {},
   "outputs": [
    {
     "data": {
      "text/plain": [
       "'Europe/London'"
      ]
     },
     "execution_count": 196,
     "metadata": {},
     "output_type": "execute_result"
    }
   ],
   "source": [
    "raw.json()['timezone']"
   ]
  },
  {
   "cell_type": "code",
   "execution_count": 197,
   "metadata": {},
   "outputs": [
    {
     "name": "stdout",
     "output_type": "stream",
     "text": [
      "vis: 17.475, cloud: 0.325, hum: 75.0925\n"
     ]
    }
   ],
   "source": [
    "average = {'vis' : 0.0, 'cloud' : 0.0, 'hum' : 0.0}\n",
    "conditions = {}\n",
    "\n",
    "count = 1\n",
    "for i in raw.json()['days']:\n",
    "    \n",
    "    if i['conditions'] not in conditions:\n",
    "        conditions[i['conditions']] = 0\n",
    "    conditions[i['conditions']] += 1\n",
    "    \n",
    "    average['vis'] *= (count-1)/count\n",
    "    average['vis'] += i['visibility']/count\n",
    "    \n",
    "    average['cloud'] *= (count-1)/count\n",
    "    average['cloud'] += i['cloudcover']/count\n",
    "    \n",
    "    average['hum'] *= (count-1)/count\n",
    "    average['hum'] += i['humidity']/count\n",
    "    \n",
    "    count += 1\n",
    "    \n",
    "print(*map(lambda x: x+': '+str(round(average[x], 4)), average), sep=', ')\n"
   ]
  },
  {
   "cell_type": "code",
   "execution_count": 198,
   "metadata": {},
   "outputs": [
    {
     "name": "stdout",
     "output_type": "stream",
     "text": [
      "2819 21583\n",
      "('<17.80', '<3.8')\n",
      "200 43318\n"
     ]
    },
    {
     "data": {
      "image/png": "[encoded data removed]",
      "text/plain": [
       "<Figure size 432x288 with 1 Axes>"
      ]
     },
     "metadata": {
      "needs_background": "light"
     },
     "output_type": "display_data"
    }
   ],
   "source": [
    "# light polution revealing\n",
    "\n",
    "dot_x = int(step_x * (75-raw.json()['latitude']))\n",
    "dot_y = int(step_y * (180+raw.json()['longitude']))\n",
    "print(dot_x, dot_y)\n",
    "\n",
    "sqm = ['22.00-21.99', '21.99-21.93', '21.93-21.89', '21.89-21.81',\n",
    "       '21.81-21.69', '21.69-21.51', '21.51-21.25', '21.25-20.91',\n",
    "       '20.91-20.49', '20.49-20.02', '20.02-19.50', '19.50-18.95',\n",
    "       '18.95-18.38', '18.38-17.80', '<17.80']\n",
    "nelm = ['6.6', '6.6', '6.6', '6.6-6.5', '6.5', '6.5-6.4', '6.4-6.3',\n",
    "        '6.3-6.1', '6.1-5.8', '5.8-5.5', '5.5-5.1', '5.1-4.7',\n",
    "        '4.7-4.3', '4.3-3.8', '<3.8']\n",
    "\n",
    "light_pol = (sqm[im_dev[dot_x][dot_y]], nelm[im_dev[dot_x][dot_y]])\n",
    "print(light_pol)\n",
    "import matplotlib.pyplot as plt\n",
    "%matplotlib inline\n",
    "memo = im_dev[dot_x-100:dot_x+100]\n",
    "print(len(memo), len(memo[0]))\n",
    "plt.imshow(numpy.matrix(im_showable)[dot_x-100:dot_x+100, dot_y-100:dot_y+100])\n",
    "plt.show()"
   ]
  },
  {
   "cell_type": "code",
   "execution_count": null,
   "metadata": {},
   "outputs": [],
   "source": []
  },
  {
   "cell_type": "code",
   "execution_count": null,
   "metadata": {},
   "outputs": [],
   "source": []
  }
 ],
 "metadata": {
  "kernelspec": {
   "display_name": "Python 3",
   "language": "python",
   "name": "python3"
  },
  "language_info": {
   "codemirror_mode": {
    "name": "ipython",
    "version": 3
   },
   "file_extension": ".py",
   "mimetype": "text/x-python",
   "name": "python",
   "nbconvert_exporter": "python",
   "pygments_lexer": "ipython3",
   "version": "3.7.6"
  }
 },
 "nbformat": 4,
 "nbformat_minor": 4
}
